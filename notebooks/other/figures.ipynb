{
 "metadata": {
  "name": ""
 },
 "nbformat": 3,
 "nbformat_minor": 0,
 "worksheets": [
  {
   "cells": [
    {
     "cell_type": "code",
     "collapsed": false,
     "input": [
      "from __future__ import print_function, division\n",
      "import matplotlib as mpl\n",
      "import matplotlib.pyplot as plt\n",
      "import numpy as np\n",
      "import pandas as pd\n",
      "import brewer2mpl\n",
      "import json\n",
      "import os\n",
      "%matplotlib inline"
     ],
     "language": "python",
     "metadata": {},
     "outputs": [],
     "prompt_number": 122
    },
    {
     "cell_type": "code",
     "collapsed": false,
     "input": [
      "# Getting brewer Set1 colors\n",
      "set1 = brewer2mpl.get_map(\"Set1\", \"Qualitative\", 7).mpl_colors\n",
      "\n",
      "# Setting some general parameter for plots\n",
      "mpl.rcParams[\"figure.figsize\"] = (10, 7)\n",
      "mpl.rcParams['figure.dpi'] = 150\n",
      "mpl.rcParams['axes.color_cycle'] = set1\n",
      "mpl.rcParams['lines.linewidth'] = 2\n",
      "mpl.rcParams['axes.facecolor'] = 'white'\n",
      "mpl.rcParams['font.size'] = 14\n",
      "mpl.rcParams['patch.edgecolor'] = 'white'\n",
      "mpl.rcParams['patch.facecolor'] = set1[0]\n",
      "mpl.rcParams['font.family'] = 'StixGeneral'\n",
      "\n",
      "# Function to remove spines and ticks\n",
      "def remove_border(axes=None, top=False, right=False, left=True, bottom=True):\n",
      "    \"\"\"\n",
      "    Minimize chartjunk by stripping out unnecesasry plot borders and axis ticks\n",
      "    \n",
      "    The top/right/left/bottom keywords toggle whether the corresponding plot border is drawn\n",
      "    \"\"\"\n",
      "    ax = axes or plt.gca()\n",
      "    ax.spines['top'].set_visible(top)\n",
      "    ax.spines['right'].set_visible(right)\n",
      "    ax.spines['left'].set_visible(left)\n",
      "    ax.spines['bottom'].set_visible(bottom)\n",
      "    \n",
      "    #turn off all ticks\n",
      "    ax.yaxis.set_ticks_position('none')\n",
      "    ax.xaxis.set_ticks_position('none')\n",
      "    \n",
      "    #now re-enable visibles\n",
      "    if top:\n",
      "        ax.xaxis.tick_top()\n",
      "    if bottom:\n",
      "        ax.xaxis.tick_bottom()\n",
      "    if left:\n",
      "        ax.yaxis.tick_left()\n",
      "    if right:\n",
      "        ax.yaxis.tick_right()"
     ],
     "language": "python",
     "metadata": {},
     "outputs": [],
     "prompt_number": 123
    },
    {
     "cell_type": "code",
     "collapsed": false,
     "input": [
      "data = np.random.randn(1000)\n",
      "data2 = 1+np.random.randn(1000)\n",
      "n, b = np.histogram(data, bins=np.sqrt(data.shape[0]), density=True)\n",
      "x = np.linspace(b[0], b[-1], 100*b.shape[0])\n",
      "y = np.zeros_like(x)\n",
      "for i in xrange(b.shape[0]-1):\n",
      "    #p = np.where((x>=b[i]) & (x<b[i+1]))[0]\n",
      "    y[(x>=b[i]) & (x<b[i+1])] = n[i]\n",
      "\n",
      "f = plt.figure()\n",
      "ax = f.add_subplot(111)\n",
      "n1, b1, p1 = ax.hist(data, bins=np.sqrt(data.shape[0]), histtype='bar', \n",
      "            rwidth=.88, normed=True, alpha=.8, align='mid')\n",
      "_ = ax.hist(data2, bins=b1, histtype='bar', \n",
      "            rwidth=.88, normed=True, alpha=.8, align='mid')\n",
      "#_ = ax.plot(x, y, '-', drawstyle=\"step\", alpha=1.)\n",
      "#ax.fill_between(x, y)\n",
      "remove_border(ax)"
     ],
     "language": "python",
     "metadata": {},
     "outputs": [
      {
       "metadata": {},
       "output_type": "display_data",
       "png": "[encoded data removed]",
       "text": [
        "<matplotlib.figure.Figure at 0xecd9890>"
       ]
      }
     ],
     "prompt_number": 121
    },
    {
     "cell_type": "code",
     "collapsed": false,
     "input": [
      "data_dir = \"/media/backup/simulation-data/ms-project/data/\"\n",
      "data_dir += \"act-rep-run1\"\n",
      "os.chdir(data_dir)\n",
      "\n",
      "config = json.load(open(\"config.json\",\"r\"))\n",
      "print(config[\"readme\"], config.keys(), sep=\"\\n\\n\")\n",
      "statistics = pd.read_csv(\"statistics.csv\")\n",
      "social_network = np.load(\"social-network.npy\")\n",
      "activity = np.load(\"activity.npy\")\n",
      "state = np.load(\"state.npy\")\n",
      "zeitgeist = np.load(\"zeitgeist.npy\")\n",
      "\n",
      "N = config[\"society\"][\"N\"]\n",
      "D = config[\"society\"][\"D\"]\n",
      "bbeta = config[\"bounds\"][\"beta\"]\n",
      "bdelta = config[\"bounds\"][\"delta\"]\n",
      "bgamma = config[\"bounds\"][\"gamma\"]\n",
      "nbeta = np.arange(*bbeta).shape[0]\n",
      "ndelta = np.arange(*bdelta).shape[0]\n",
      "ngamma = np.arange(*bgamma).shape[0]\n",
      "\n",
      "# index order: gamma,delta,beta\n",
      "new_shape = (ngamma, ndelta, nbeta)\n",
      "beta = statistics[\"beta\"].reshape(new_shape)\n",
      "delta = statistics[\"delta\"].reshape(new_shape)\n",
      "gamma = statistics[\"gamma\"].reshape(new_shape)\n",
      "m = statistics[\"m\"].reshape(new_shape)\n",
      "n = statistics[\"n\"].reshape(new_shape)\n",
      "r = statistics[\"r\"].reshape(new_shape)\n",
      "stag_m = statistics[\"stag_m\"].reshape(new_shape)\n",
      "M = statistics[\"M\"].reshape(new_shape)\n",
      "R_max = statistics[\"R_max\"].reshape(new_shape)\n",
      "R_mean = statistics[\"R_mean\"].reshape(new_shape)\n",
      "V_max = statistics[\"V_max\"].reshape(new_shape)\n",
      "V_mean = statistics[\"V_mean\"].reshape(new_shape)\n",
      "\n",
      "sn = social_network.reshape((ngamma,ndelta,nbeta,N,N))\n",
      "act = activity.reshape((ngamma,ndelta,nbeta,N,N))\n",
      "x = state.reshape((ngamma,ndelta,nbeta,N,D))\n",
      "all_z = zeitgeist.reshape((ngamma,ndelta,nbeta,D))"
     ],
     "language": "python",
     "metadata": {},
     "outputs": [
      {
       "output_type": "stream",
       "stream": "stdout",
       "text": [
        "reputation: if hi*sgn(hj) < -gamma, wi(t+1)=wi(t) and Rij(t+1)-=d_eps, else Rij(t+1)+=hihj*d_eps. activity for each agent is recorded, and normalized to 1. a[i,j](t+1)=a[i,j](t)+1. complete network, with 64 agents. pij~=e^Rij. d_eps=0.5\n",
        "\n",
        "[u'readme', u'society', u'mcmc', u'bounds', u'name']\n"
       ]
      }
     ],
     "prompt_number": 124
    },
    {
     "cell_type": "code",
     "collapsed": false,
     "input": [],
     "language": "python",
     "metadata": {},
     "outputs": []
    }
   ],
   "metadata": {}
  }
 ]
}
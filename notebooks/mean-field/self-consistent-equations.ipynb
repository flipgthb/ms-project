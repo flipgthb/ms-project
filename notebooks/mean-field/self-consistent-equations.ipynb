{
 "metadata": {
  "name": ""
 },
 "nbformat": 3,
 "nbformat_minor": 0,
 "worksheets": [
  {
   "cells": [
    {
     "cell_type": "code",
     "collapsed": false,
     "input": [
      "from __future__ import division, print_function\n",
      "import numpy as np\n",
      "import pylab as pl\n",
      "from scipy.optimize import fixed_point\n",
      "from scipy import integrate\n",
      "from math import sin, cos, exp\n",
      "import time\n",
      "from datetime import timedelta\n",
      "import multiprocessing as mp\n",
      "import functools\n",
      "%matplotlib inline"
     ],
     "language": "python",
     "metadata": {},
     "outputs": [],
     "prompt_number": 10
    },
    {
     "cell_type": "code",
     "collapsed": false,
     "input": [
      "def G(p,t,g):\n",
      "    x = sin(g)*sin(t)*cos(p)+cos(t)*cos(g)\n",
      "    return x\n",
      "\n",
      "def Bjac(p,t,g,d,m,r,n,J,b):\n",
      "    a = (1+d)/2\n",
      "    b = (1-d)/2\n",
      "    g_rho = [G(p,t,0), G(p,t,g)]\n",
      "    g = np.vstack(g_rho)\n",
      "    f = np.vstack([n, 1-n])\n",
      "    X = np.array([[1.,-J],[-J,1]])\n",
      "    Mg = ((X.dot((m*n))).dot(g)).sum(axis=1)\n",
      "    Rg = (X.dot((r*n))).dot(np.abs(g)).sum(axis=1)\n",
      "    return np.exp(b*(a*Mg-b*Rg))*sin(t)**3*sin(p)**2\n"
     ],
     "language": "python",
     "metadata": {},
     "outputs": [],
     "prompt_number": 41
    },
    {
     "cell_type": "code",
     "collapsed": false,
     "input": [
      "m = np.array([[.5,-.5],[-.5,.5]])\n",
      "r = np.array([[.5,.5],[.5,.5]])\n",
      "\n",
      "Bjac(.2,.5,.7, .4, m, r, .6, 2, 4)"
     ],
     "language": "python",
     "metadata": {},
     "outputs": [
      {
       "metadata": {},
       "output_type": "pyout",
       "prompt_number": 42,
       "text": [
        "array([ 0.00448982,  0.00465632])"
       ]
      }
     ],
     "prompt_number": 42
    },
    {
     "cell_type": "code",
     "collapsed": false,
     "input": [
      "f = lambda x, y: .5*x + y\n",
      "g = integrate.dblquad(f, 0, 2, lambda x: 0, lambda x: 1)\n",
      "print(g)\n",
      "\n",
      "integrate.quad(lambda x: x, 0, 1)[0]+integrate.quad(lambda x: x, 0, 2)[0]"
     ],
     "language": "python",
     "metadata": {},
     "outputs": [
      {
       "output_type": "stream",
       "stream": "stdout",
       "text": [
        "(2.5, 2.7755575615628914e-14)\n"
       ]
      },
      {
       "metadata": {},
       "output_type": "pyout",
       "prompt_number": 9,
       "text": [
        "2.5"
       ]
      }
     ],
     "prompt_number": 9
    },
    {
     "cell_type": "code",
     "collapsed": false,
     "input": [
      "def f(x, y, z, d):\n",
      "    a = 4*(1+d)*cos(x)/2 + 3*(1-d)*abs(cos(x))/2\n",
      "    b = -2*(1+d)*(cos(x)*cos(z)+sin(z)*sin(x)*cos(y))/2 +\\\n",
      "        8*(1-d)*abs((cos(x)*cos(z)+sin(z)*sin(x)*cos(y)))/2\n",
      "    F = exp(a+b)\n",
      "    F *= sin(x)**(3)*sin(y)**2\n",
      "    return F\n",
      "\n",
      "g = integrate.dblquad(f, 0, np.pi, \n",
      "                      lambda x: 0, lambda x: np.pi, args=(.4, np.pi/2))\n",
      "print(g)"
     ],
     "language": "python",
     "metadata": {},
     "outputs": [
      {
       "output_type": "stream",
       "stream": "stdout",
       "text": [
        "(1.4324713551743535, 7.043754107715917e-09)\n"
       ]
      }
     ],
     "prompt_number": 17
    },
    {
     "cell_type": "code",
     "collapsed": false,
     "input": [
      "def I(func, *fargs):\n",
      "    return integrate.dblquad(func, 0, np.pi, \n",
      "                             lambda x: 0, lambda x: np.pi, args=fargs)[0]\n",
      "\n",
      "def G(phi, theta, gamma):\n",
      "     return cos(theta)*cos(gamma) + sin(theta)*sin(gamma)*cos(phi)\n",
      "\n",
      "def B(phi, theta, m0, r0, J, n1, delta, gamma, beta):\n",
      "     X = np.array([[1, -J], \n",
      "                   [-J, 1]])\n",
      "     n = np.vstack([n1, 1-n1])\n",
      "     g = np.vstack([cos(theta), G(phi,theta,gamma)])\n",
      "     a = (1+delta)/2\n",
      "     b = (1-delta)/2\n",
      "     Mg = X.dot((m0*n)).dot(g)\n",
      "     Rg = X.dot((r0*n)).dot(np.abs(g))\n",
      "     return np.exp(beta*(-b*Rg+a*Mg))\n",
      "\n",
      "def jacobian(phi, theta):\n",
      "     return (sin(theta)**3)*(sin(phi)**2)\n",
      "\n",
      "J = 1.\n",
      "n1 = 1.\n",
      "gamma = 0.\n",
      "beta = 40\n",
      "delta = .4\n",
      "m0 = np.ones((2,2))\n",
      "r0 = np.ones((2,2))\n",
      "w = [lambda x,y,v1,v2: jacobian(x, y)*B(x,y,v1,v2,J,n1,delta,gamma,beta)[i]\n",
      "     for i in [0,1]]\n",
      "print(w[0](np.pi,np.pi, m0, r0))\n",
      "\n",
      "g = [lambda x,y,v1,v2,a, z: G(x,y,a)*Q(x,y,v1,v2)/z\n",
      "     for Q in w for z in [0, gamma]]\n",
      "\n",
      "Z = [I(Q, m0, r0) for Q in w]\n",
      "\n",
      "print(Z[0])\n",
      "I(g[0], m0, r0, 0., Z[0])"
     ],
     "language": "python",
     "metadata": {},
     "outputs": [
      {
       "output_type": "stream",
       "stream": "stdout",
       "text": [
        "[  1.52620479e-45]\n",
        "2.68574981983e+31"
       ]
      },
      {
       "output_type": "stream",
       "stream": "stdout",
       "text": [
        "\n"
       ]
      },
      {
       "metadata": {},
       "output_type": "pyout",
       "prompt_number": 51,
       "text": [
        "-0.9751582278481014"
       ]
      }
     ],
     "prompt_number": 51
    },
    {
     "cell_type": "code",
     "collapsed": false,
     "input": [
      "G(np.pi,3*np.pi/4,0), cos(3*np.pi/4)"
     ],
     "language": "python",
     "metadata": {},
     "outputs": [
      {
       "metadata": {},
       "output_type": "pyout",
       "prompt_number": 38,
       "text": [
        "(-0.7071067811865475, -0.7071067811865475)"
       ]
      }
     ],
     "prompt_number": 38
    },
    {
     "cell_type": "code",
     "collapsed": false,
     "input": [
      "#exp(710)\n",
      "24*30\n",
      "\n",
      "fixed_point("
     ],
     "language": "python",
     "metadata": {},
     "outputs": [
      {
       "metadata": {},
       "output_type": "pyout",
       "prompt_number": 70,
       "text": [
        "720"
       ]
      }
     ],
     "prompt_number": 70
    }
   ],
   "metadata": {}
  }
 ]
}
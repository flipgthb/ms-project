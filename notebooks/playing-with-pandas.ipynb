{
 "metadata": {
  "name": "",
  "signature": "sha256:801e40929807174ad84b62859cc1f63a1aa73028a0b2b1ef197f6bebd291e20b"
 },
 "nbformat": 3,
 "nbformat_minor": 0,
 "worksheets": [
  {
   "cells": [
    {
     "cell_type": "code",
     "collapsed": false,
     "input": [
      "import pandas as pd\n",
      "import numpy as np"
     ],
     "language": "python",
     "metadata": {},
     "outputs": [],
     "prompt_number": 4
    },
    {
     "cell_type": "code",
     "collapsed": false,
     "input": [
      "pn = pd.Panel()"
     ],
     "language": "python",
     "metadata": {},
     "outputs": [],
     "prompt_number": 3
    },
    {
     "cell_type": "code",
     "collapsed": false,
     "input": [
      "names = (\"foo\",\"bar\",\"qux\")\n",
      "p1 = (1,2,3)\n",
      "x1 = np.random.randn(10,3)\n",
      "df1 = pd.DataFrame(x1, columns=tuple(\"abc\"))\n",
      "d1 = {p1:df1}\n",
      "pn1 = pd.Panel(d1)\n",
      "pn1.items.set_names(names, inplace=True)\n",
      "p2 = (1,2,4)\n",
      "x2 = np.random.randn(10,3)\n",
      "df2 = pd.DataFrame(x2, columns=tuple(\"abc\"))\n",
      "d2 = {p2:df2}\n",
      "pn2 = pd.Panel(d2)\n",
      "pn2.items.set_names(names, inplace=True)"
     ],
     "language": "python",
     "metadata": {},
     "outputs": [],
     "prompt_number": 6
    },
    {
     "cell_type": "code",
     "collapsed": false,
     "input": [
      "pn = pd.concat([pn1,pn2])\n",
      "pn.items"
     ],
     "language": "python",
     "metadata": {},
     "outputs": [
      {
       "metadata": {},
       "output_type": "pyout",
       "prompt_number": 11,
       "text": [
        "MultiIndex(levels=[[1], [2], [3, 4]],\n",
        "           labels=[[0, 0], [0, 0], [0, 1]],\n",
        "           names=[u'foo', u'bar', u'qux'])"
       ]
      }
     ],
     "prompt_number": 11
    }
   ],
   "metadata": {}
  }
 ]
}
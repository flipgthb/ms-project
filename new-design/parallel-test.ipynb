{
 "metadata": {
  "name": "",
  "signature": "sha256:be7cdd24f25cf0ffb9afb3be452c92a8df36d67e44fd563e8e8fd907644f5003"
 },
 "nbformat": 3,
 "nbformat_minor": 0,
 "worksheets": [
  {
   "cells": [
    {
     "cell_type": "code",
     "collapsed": false,
     "input": [
      "!ipcluster stop\n",
      "!ipcluster start --daemon -n=2"
     ],
     "language": "python",
     "metadata": {},
     "outputs": [
      {
       "output_type": "stream",
       "stream": "stdout",
       "text": [
        "2014-11-17 12:37:32.324 [IPClusterStop] Using existing profile dir: u'/home/felippe/.ipython/profile_default'\r\n",
        "2014-11-17 12:37:32.325 [IPClusterStop] CRITICAL | Could not read pid file, cluster is probably not running.\r\n"
       ]
      },
      {
       "output_type": "stream",
       "stream": "stdout",
       "text": [
        "2014-11-17 12:37:32.658 [IPClusterStart] Using existing profile dir: u'/home/felippe/.ipython/profile_default'\r\n"
       ]
      }
     ],
     "prompt_number": 28
    },
    {
     "cell_type": "code",
     "collapsed": false,
     "input": [
      "from __future__ import division, print_function\n",
      "from IPython import parallel\n",
      "from IPython.html import widgets\n",
      "from IPython.display import display"
     ],
     "language": "python",
     "metadata": {},
     "outputs": [],
     "prompt_number": 29
    },
    {
     "cell_type": "code",
     "collapsed": false,
     "input": [
      "dv = parallel.Client().direct_view()"
     ],
     "language": "python",
     "metadata": {},
     "outputs": [],
     "prompt_number": 30
    },
    {
     "cell_type": "code",
     "collapsed": false,
     "input": [
      "# %px cd \"new-design/\"\n",
      "# %px %pwd"
     ],
     "language": "python",
     "metadata": {},
     "outputs": [
      {
       "output_type": "stream",
       "stream": "stdout",
       "text": [
        "[stdout:0] \n",
        "[Errno 2] No such file or directory: 'new-design/'\n",
        "/home/felippe/Documents/ms-project/new-design\n",
        "[stdout:1] \n",
        "[Errno 2] No such file or directory: 'new-design/'\n",
        "/home/felippe/Documents/ms-project/new-design\n"
       ]
      }
     ],
     "prompt_number": 6
    },
    {
     "cell_type": "code",
     "collapsed": false,
     "input": [
      "import os\n",
      "path = \"/home/felippe/Desktop/parallel-test/\"\n",
      "if not os.path.exists(path):\n",
      "    os.mkdir(path)\n",
      "    \n",
      "from MonteCarlo import save_data\n",
      "\n",
      "from itertools import product\n",
      "import numpy as np\n",
      "\n",
      "beta = np.linspace(1,10,3)\n",
      "rho = np.linspace(0.0,0.9,3)\n",
      "epsilon = np.linspace(0.1,0.45,3)\n",
      "\n",
      "points = [p for p in product(beta,rho,epsilon)]\n",
      "dv.scatter('points', points)"
     ],
     "language": "python",
     "metadata": {},
     "outputs": [
      {
       "metadata": {},
       "output_type": "pyout",
       "prompt_number": 31,
       "text": [
        "<AsyncResult: scatter>"
       ]
      }
     ],
     "prompt_number": 31
    },
    {
     "cell_type": "code",
     "collapsed": false,
     "input": [
      "%%px\n",
      "\n",
      "import numpy as np\n",
      "from Model import MoralAgentModel\n",
      "from MonteCarlo import mcmc, save_data\n",
      "import networkx as nx\n",
      "\n",
      "N = 100\n",
      "D = 5\n",
      "sweeps = 10\n",
      "\n",
      "def simulation(x):\n",
      "    b,r,e = x\n",
      "    g = nx.complete_graph(N)\n",
      "    m = MoralAgentModel(b,r,e,g,D)\n",
      "    r = mcmc(m, sweeps, save_state=True)\n",
      "    return r"
     ],
     "language": "python",
     "metadata": {},
     "outputs": [
      {
       "output_type": "stream",
       "stream": "stdout",
       "text": [
        "[stdout:0] Couldn't import dot_parser, loading of dot files will not be possible.\n",
        "[stdout:1] Couldn't import dot_parser, loading of dot files will not be possible.\n"
       ]
      }
     ],
     "prompt_number": 32
    },
    {
     "cell_type": "code",
     "collapsed": false,
     "input": [
      "%%px\n",
      "data = map(simulation,points)"
     ],
     "language": "python",
     "metadata": {},
     "outputs": [],
     "prompt_number": 33
    },
    {
     "cell_type": "code",
     "collapsed": false,
     "input": [
      "data = dv.gather(\"data\")\n",
      "r = data.get()\n",
      "save_data(path+\"foo\", r)"
     ],
     "language": "python",
     "metadata": {},
     "outputs": [],
     "prompt_number": 36
    }
   ],
   "metadata": {}
  }
 ]
}
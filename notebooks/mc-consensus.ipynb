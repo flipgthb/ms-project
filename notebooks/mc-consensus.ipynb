{
 "metadata": {
  "name": "",
  "signature": "sha256:80475bceda9b2f9eda456fae302a862a1ef481c3187dcd7f5310d9a85fa1b512"
 },
 "nbformat": 3,
 "nbformat_minor": 0,
 "worksheets": [
  {
   "cells": [
    {
     "cell_type": "code",
     "collapsed": false,
     "input": [
      "from __future__ import division\n",
      "import numpy as np\n",
      "import pandas as pd\n",
      "import matplotlib.pyplot as plt\n",
      "from IPython.parallel import Client\n",
      "from IPython.html import widgets\n",
      "import seaborn as sns\n",
      "import datetime\n",
      "import time\n",
      "import os\n",
      "%matplotlib inline\n",
      "import matplotlib.pyplot as plt\n",
      "sns.set_style({\"font.family\":\"Monospace\"})#, \"axes.grid\": False,\n",
      "               #\"grid.color\": \"0.85\"})"
     ],
     "language": "python",
     "metadata": {},
     "outputs": [],
     "prompt_number": 1
    },
    {
     "cell_type": "code",
     "collapsed": false,
     "input": [
      "def save_data(path, data_tuple, time_stamp=True):\n",
      "\n",
      "    ts = \"\"\n",
      "    if time_stamp:\n",
      "        lt = time.localtime()\n",
      "        ymd = lt.tm_year,lt.tm_mon,lt.tm_mday\n",
      "        date = datetime.date(*ymd)\n",
      "        ts = \"_\"+str(date)\n",
      "\n",
      "\n",
      "    data = dict.fromkeys(data_tuple[0].keys())\n",
      "    for entry in data_tuple:\n",
      "        for k,v in entry.items():\n",
      "            try:\n",
      "                data[k].append(v)\n",
      "            except:\n",
      "                data[k] = [v]\n",
      "\n",
      "    final = {}\n",
      "    for file_name, data_list in data.items():\n",
      "        full_name = path + file_name + ts + \".csv\"\n",
      "        with open(full_name, \"w\") as file_:\n",
      "            panel = pd.concat(data_list)\n",
      "            panel.to_frame().to_csv(file_)\n",
      "            final[file_name] = panel\n",
      "    return final      \n",
      "\n",
      "def get_panel(path, header=[0,1,2], index_col=[0,1]):\n",
      "    with open(path) as file_:\n",
      "        dataframe = pd.read_csv(file_, header=header, index_col=index_col)\n",
      "        panel = dataframe.to_panel()\n",
      "        lvl = list(panel.items.levels)\n",
      "        new_lvl = map(lambda x: x.astype(float), lvl)\n",
      "        panel.items.set_levels(new_lvl, inplace=True)\n",
      "    return panel"
     ],
     "language": "python",
     "metadata": {},
     "outputs": [],
     "prompt_number": 2
    },
    {
     "cell_type": "code",
     "collapsed": false,
     "input": [
      "c = Client()\n",
      "print c.ids\n",
      "dview = c.direct_view()"
     ],
     "language": "python",
     "metadata": {},
     "outputs": [
      {
       "output_type": "stream",
       "stream": "stdout",
       "text": [
        "[0, 1, 2, 3, 4, 5, 6, 7, 8, 9, 10, 11]\n"
       ]
      }
     ],
     "prompt_number": 3
    },
    {
     "cell_type": "code",
     "collapsed": false,
     "input": [
      "config = {\n",
      "    \"M\": 1000,\n",
      "    \"N\": 100,\n",
      "    \"K\": 5,\n",
      "    \"dw\": 0.2,\n",
      "    \"dr\": 0.5,\n",
      "}\n",
      "config[\"zeitgeist\"] = [1.0]*config[\"K\"]\n",
      "dview.push(config)\n",
      "eps_vals = np.arange(0,0.5,0.2)\n",
      "rho_vals = np.arange(0.0,1.0,0.01)\n",
      "beta_vals = np.arange(0,30.0,0.3)\n",
      "points = np.meshgrid(\n",
      "    eps_vals, \n",
      "    rho_vals,\n",
      "    beta_vals\n",
      ")\n",
      "phase_space = np.vstack([l.ravel() for l in points]).T\n",
      "dview.scatter(\"phase_space\", phase_space)"
     ],
     "language": "python",
     "metadata": {},
     "outputs": [
      {
       "metadata": {},
       "output_type": "pyout",
       "prompt_number": 4,
       "text": [
        "<AsyncResult: finished>"
       ]
      }
     ],
     "prompt_number": 4
    },
    {
     "cell_type": "code",
     "collapsed": false,
     "input": [
      "#dview.pull(config.keys()).get()"
     ],
     "language": "python",
     "metadata": {},
     "outputs": [],
     "prompt_number": 58
    },
    {
     "cell_type": "code",
     "collapsed": false,
     "input": [
      "#dview.pull(\"phase_space\").get()"
     ],
     "language": "python",
     "metadata": {},
     "outputs": [],
     "prompt_number": 59
    },
    {
     "cell_type": "code",
     "collapsed": false,
     "input": [
      "%%px\n",
      "from __future__ import division\n",
      "import numpy as np\n",
      "import pandas as pd\n",
      "import networkx as nx\n",
      "import math\n",
      "from scipy.special import erfc\n",
      "\n",
      "sqrt2 = math.sqrt(2)\n",
      "sqrt2pi = math.sqrt(2*np.pi)\n",
      "sqrtK = math.sqrt(K)\n",
      "\n",
      "def montecarlo(eps,rho,beta):\n",
      "    \n",
      "    gm = math.sqrt(1-rho**2)/rho\n",
      "    \n",
      "    w = np.random.randn(N,K)\n",
      "    w *= sqrtK / np.linalg.norm(w, axis=1)[:,None]\n",
      "    \n",
      "    x =  sqrtK * np.array(zeitgeist) / np.linalg.norm(zeitgeist)\n",
      "    \n",
      "    h = x.dot(w.T)/sqrtK\n",
      "    \n",
      "    G = nx.complete_graph(N)\n",
      "    A0 = np.asarray(nx.attr_matrix(G)[0])/2\n",
      "    A = A0.copy()\n",
      "    \n",
      "    def measure():\n",
      "        m = h.mean()/sqrtK\n",
      "        r = np.abs(h).mean()/sqrtK\n",
      "        v = h.var()/K\n",
      "        q = (A*h*h[:,None]).mean()\n",
      "        enemies = np.where(A>1/2,0,1)\n",
      "        n = (enemies - np.diag(np.diag(enemies))).mean()\n",
      "        data = pd.Series([m,r,v,q,n], index=\"m r v q n\".split(\" \"))\n",
      "        return data\n",
      "    \n",
      "    trace = pd.DataFrame()\n",
      "    got = measure()\n",
      "    got[\"acceptance_ratio\"] = 0\n",
      "    trace = trace.append(got, ignore_index=True)\n",
      "    \n",
      "    def energy(hi,hj):\n",
      "        z = hi*np.sign(hj)/gm\n",
      "        Jij = 1/K\n",
      "        return -Jij*gm*gm*math.log(eps + (1-2*eps)*erfc(-z/sqrt2)/2)\n",
      "    \n",
      "    accepted = 0\n",
      "    for t in xrange(M*N):\n",
      "        i = np.random.choice(N)\n",
      "        ni = A[i]\n",
      "        pij = ni/ni.sum()\n",
      "        j = np.random.choice(N, p=pij)\n",
      "        \n",
      "        hi, hj = h[i], h[j]\n",
      "        #rij = A[i,j]\n",
      "        #drij = dr*rij*(1-rij)*np.sign(hi*hj)\n",
      "        #A[i,j] += drij\n",
      "        #A[j,i] = A[i, j]\n",
      "        \n",
      "        E0 = energy(hi,hj)\n",
      "        u = np.random.multivariate_normal(w[i], dw*np.eye(K))\n",
      "        u *= sqrtK / np.linalg.norm(u)\n",
      "        l = x.dot(u)/sqrtK\n",
      "        E = energy(l, hj)\n",
      "        if E < E0 or np.random.rand() < math.exp(beta*(E0-E)):\n",
      "            accepted += 1\n",
      "            w[i] = u.copy()\n",
      "            h[i] = l\n",
      "        \n",
      "        if t%N == 0:\n",
      "            got = measure()\n",
      "            got[\"acceptance_ratio\"] = accepted/(t+1)\n",
      "            trace = trace.append(got, ignore_index=True)\n",
      "            \n",
      "    p = (eps, rho, beta)\n",
      "    names = \"epsilon rho beta\".split(' ')\n",
      "    entries = dict(statistics=trace,\n",
      "                   agents=pd.DataFrame(w),\n",
      "                   network=pd.DataFrame(A))\n",
      "    data = {}\n",
      "    for k,v in entries.items():\n",
      "        dv = pd.Panel({p:v})\n",
      "        dv.items.set_names(names, inplace=True)\n",
      "        data[k] = dv\n",
      "    return data"
     ],
     "language": "python",
     "metadata": {},
     "outputs": [
      {
       "metadata": {},
       "output_type": "pyout",
       "prompt_number": 10,
       "text": [
        "<AsyncResult: execute>"
       ]
      }
     ],
     "prompt_number": 10
    },
    {
     "cell_type": "code",
     "collapsed": false,
     "input": [
      "%pxconfig --noblock"
     ],
     "language": "python",
     "metadata": {},
     "outputs": [],
     "prompt_number": 11
    },
    {
     "cell_type": "code",
     "collapsed": false,
     "input": [
      "%%px\n",
      "import time\n",
      "import datetime\n",
      "import os\n",
      "pid = os.getpid()\n",
      "\n",
      "t0 = time.time()\n",
      "data = [montecarlo(*x) for x in phase_space]\n",
      "t = time.time()\n",
      "print \"pid: {} spent {}\".format(pid, datetime.timedelta(seconds=t-t0))"
     ],
     "language": "python",
     "metadata": {},
     "outputs": [
      {
       "metadata": {},
       "output_type": "pyout",
       "prompt_number": 12,
       "text": [
        "<AsyncResult: execute>"
       ]
      }
     ],
     "prompt_number": 12
    },
    {
     "cell_type": "code",
     "collapsed": false,
     "input": [
      "asr = _\n",
      "asr.wait_interactive()"
     ],
     "language": "python",
     "metadata": {},
     "outputs": [
      {
       "output_type": "stream",
       "stream": "stdout",
       "text": [
        "  12/12 tasks finished after 81166 s"
       ]
      },
      {
       "output_type": "stream",
       "stream": "stdout",
       "text": [
        "\n",
        "done\n"
       ]
      }
     ],
     "prompt_number": 14
    },
    {
     "cell_type": "code",
     "collapsed": true,
     "input": [
      "asr.get()"
     ],
     "language": "python",
     "metadata": {},
     "outputs": [
      {
       "metadata": {},
       "output_type": "pyout",
       "prompt_number": 15,
       "text": [
        "[, , , , , , , , , , , ]"
       ]
      }
     ],
     "prompt_number": 15
    },
    {
     "cell_type": "code",
     "collapsed": false,
     "input": [
      "data = dview.gather(\"data\")\n",
      "results = data.get()\n",
      "path = \"/media/felippe/backup/simulation-data/consensus-complete-graph/\"\n",
      "if not os.path.exists(path):\n",
      "    os.mkdir(path)\n",
      "dpn = save_data(path, results)"
     ],
     "language": "python",
     "metadata": {},
     "outputs": [],
     "prompt_number": 16
    },
    {
     "cell_type": "code",
     "collapsed": false,
     "input": [
      "#dpn = {}\n",
      "#dpn[\"statistics\"] = get_panel(\"/media/felippe/backup/simulation-data/test-test-test/statistics_2014-12-03.csv\")"
     ],
     "language": "python",
     "metadata": {},
     "outputs": [],
     "prompt_number": 11
    },
    {
     "cell_type": "code",
     "collapsed": false,
     "input": [
      "dpn[\"statistics\"][0.2][0.2].to_frame().apply(np.abs).mean(level=\"minor\").T.plot(y=\"m\")\n",
      "dpn[\"statistics\"][0.2][0.5].to_frame().apply(np.abs).mean(level=\"minor\").T.plot(y=\"m\")\n",
      "dpn[\"statistics\"][0.2][0.8].to_frame().apply(np.abs).mean(level=\"minor\").T.plot(y=\"m\")"
     ],
     "language": "python",
     "metadata": {},
     "outputs": [
      {
       "metadata": {},
       "output_type": "pyout",
       "prompt_number": 20,
       "text": [
        "<matplotlib.axes._subplots.AxesSubplot at 0x7f0d076d3510>"
       ]
      },
      {
       "metadata": {},
       "output_type": "display_data",
       "png": "[encoded data removed]",
       "text": [
        "<matplotlib.figure.Figure at 0x7f0d077db910>"
       ]
      }
     ],
     "prompt_number": 20
    },
    {
     "cell_type": "code",
     "collapsed": false,
     "input": [
      "dpn[\"statistics\"][0.0][0.5].to_frame().apply(np.abs).mean(level=\"minor\").T.plot(y=\"m\")\n",
      "dpn[\"statistics\"][0.2][0.5].to_frame().apply(np.abs).mean(level=\"minor\").T.plot(y=\"m\")\n",
      "dpn[\"statistics\"][0.4][0.5].to_frame().apply(np.abs).mean(level=\"minor\").T.plot(y=\"m\")"
     ],
     "language": "python",
     "metadata": {},
     "outputs": [
      {
       "metadata": {},
       "output_type": "pyout",
       "prompt_number": 18,
       "text": [
        "<matplotlib.axes._subplots.AxesSubplot at 0x7f0d07661f10>"
       ]
      },
      {
       "metadata": {},
       "output_type": "display_data",
       "png": "[encoded data removed]",
       "text": [
        "<matplotlib.figure.Figure at 0x7f0d07881e50>"
       ]
      }
     ],
     "prompt_number": 18
    },
    {
     "cell_type": "code",
     "collapsed": false,
     "input": [
      "A = dpn[\"network\"][0.0][0.5][10.2].values\n",
      "plt.imshow(A)\n",
      "plt.grid(False)"
     ],
     "language": "python",
     "metadata": {},
     "outputs": [
      {
       "metadata": {},
       "output_type": "display_data",
       "png": "[encoded data removed]",
       "text": [
        "<matplotlib.figure.Figure at 0x7f0d074e42d0>"
       ]
      }
     ],
     "prompt_number": 19
    },
    {
     "cell_type": "code",
     "collapsed": false,
     "input": [
      "config = {\n",
      "    \"M\": 1000,\n",
      "    \"N\": 100,\n",
      "    \"K\": 5,\n",
      "    \"dw\": 0.2,\n",
      "    \"dr\": 0.5,\n",
      "}\n",
      "config[\"zeitgeist\"] = [1.0]*config[\"K\"]\n",
      "dview.push(config)\n",
      "eps_vals = np.arange(0,0.5,0.005)\n",
      "rho_vals = np.arange(0.5,1.0,1.0)\n",
      "beta_vals = np.arange(0,30.0,0.3)\n",
      "points = np.meshgrid(\n",
      "    eps_vals, \n",
      "    rho_vals,\n",
      "    beta_vals\n",
      ")\n",
      "phase_space = np.vstack([l.ravel() for l in points]).T\n",
      "dview.scatter(\"phase_space\", phase_space)"
     ],
     "language": "python",
     "metadata": {},
     "outputs": [
      {
       "metadata": {},
       "output_type": "pyout",
       "prompt_number": 21,
       "text": [
        "<AsyncResult: finished>"
       ]
      }
     ],
     "prompt_number": 21
    },
    {
     "cell_type": "code",
     "collapsed": false,
     "input": [
      "#dview.pull(\"phase_space\").get()"
     ],
     "language": "python",
     "metadata": {},
     "outputs": [],
     "prompt_number": 24
    },
    {
     "cell_type": "code",
     "collapsed": false,
     "input": [
      "%%px\n",
      "import time\n",
      "import datetime\n",
      "import os\n",
      "pid = os.getpid()\n",
      "\n",
      "t0 = time.time()\n",
      "data = [montecarlo(*x) for x in phase_space]\n",
      "t = time.time()\n",
      "print \"pid: {} spent {}\".format(pid, datetime.timedelta(seconds=t-t0))"
     ],
     "language": "python",
     "metadata": {},
     "outputs": [
      {
       "metadata": {},
       "output_type": "pyout",
       "prompt_number": 25,
       "text": [
        "<AsyncResult: execute>"
       ]
      }
     ],
     "prompt_number": 25
    },
    {
     "cell_type": "code",
     "collapsed": false,
     "input": [
      "asr = _\n",
      "asr.wait_interactive()"
     ],
     "language": "python",
     "metadata": {},
     "outputs": [
      {
       "output_type": "stream",
       "stream": "stdout",
       "text": [
        "\n",
        "done\n"
       ]
      }
     ],
     "prompt_number": 27
    },
    {
     "cell_type": "code",
     "collapsed": false,
     "input": [
      "asr.get()"
     ],
     "language": "python",
     "metadata": {},
     "outputs": [
      {
       "metadata": {},
       "output_type": "pyout",
       "prompt_number": 28,
       "text": [
        "[, , , , , , , , , , , ]"
       ]
      }
     ],
     "prompt_number": 28
    },
    {
     "cell_type": "code",
     "collapsed": false,
     "input": [
      "data2 = dview.gather(\"data\")\n",
      "results2 = data2.get()\n",
      "path = \"/media/felippe/backup/simulation-data/consensus-complete-graph/\"\n",
      "if not os.path.exists(path):\n",
      "    os.mkdir(path)\n",
      "dpn2 = save_data(path, results2)"
     ],
     "language": "python",
     "metadata": {},
     "outputs": [],
     "prompt_number": 29
    }
   ],
   "metadata": {}
  }
 ]
}
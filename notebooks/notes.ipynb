{
 "metadata": {
  "name": "",
  "signature": "sha256:23c2d047abf7b2cac8b8038322af3136f923d9575a54ff372b2e8cb9ffe4fd58"
 },
 "nbformat": 3,
 "nbformat_minor": 0,
 "worksheets": [
  {
   "cells": [
    {
     "cell_type": "code",
     "collapsed": false,
     "input": [
      "from __future__ import division, print_function\n",
      "import numpy as np\n",
      "import sympy as sp\n",
      "import matplotlib.pyplot as plt\n",
      "import seaborn as sns\n",
      "from math import *\n",
      "sns.set_style(\"white\")\n",
      "sns.set_style({\"font.family\":\"Ubuntu\", \"axes.grid\": False,\n",
      "               \"grid.color\": \"0.85\", \"font.size\":20})\n",
      "sns.set_context(\"notebook\", {\"lines.linewidth\": 2.0,\n",
      "                             \"figure.figsize\":np.array([12,10])})\n",
      "sns.set_palette(\"Set1\")\n"
     ],
     "language": "python",
     "metadata": {},
     "outputs": [],
     "prompt_number": 1
    },
    {
     "cell_type": "markdown",
     "metadata": {},
     "source": [
      "# Modelo de Agentes para Intera\u00e7\u00e3o Pol\u00edtico-Partid\u00e1ria"
     ]
    },
    {
     "cell_type": "markdown",
     "metadata": {},
     "source": [
      "At\u00e9 ent\u00e3o, foi estudado um m\u00e9todo para o desenvolvimento de modelos de agentes visando o entendimento de fen\u00f4menos sociais envolvendo trocas de opini\u00e3o, moralidade e estratifica\u00e7\u00e3o das intera\u00e7\u00f5es sociais. Os resultados obtidos em __CITAR-CATICHA-JONATAS-BRUNO-ETC__ al\u00e9m dos demais contru\u00eddos nas se\u00e7\u00f5es anteriores estabelecem uma plataforma para a modelagem de fen\u00f4menos reais, possibilitando, eventualmente, previs\u00f5es que podem ser confrontadas com dados.\n",
      "\n",
      "Nesta se\u00e7\u00e3o ser\u00e1 feito o estudo de um modelo para a din\u00e2mica das vota\u00e7\u00f5es de projetos na c\u00e2mara de deputados ou no senado. Para isto, alguns conceitos precisam ser contextualizados para possibilitar a interpreta\u00e7\u00e3o dos grandezas envolvidas na modelagem e, consequentemente, dos resultados obtidos."
     ]
    },
    {
     "cell_type": "markdown",
     "metadata": {},
     "source": [
      "### Partidos, Agendas e Liga\u00e7\u00f5es Pol\u00edtico-Partid\u00e1rias"
     ]
    },
    {
     "cell_type": "markdown",
     "metadata": {},
     "source": [
      "N\u00e3o \u00e9 \u00f3bvia a escolha da quantidade ou do conte\u00fado das informa\u00e7\u00f5es necess\u00e1rias para modelar algum fen\u00f4meno s\u00f3cio-pol\u00edtico. A complexidade do sistema conduz facilmente \u00e0 ideia de que n\u00e3o h\u00e1 uma boa maneira de organizar tanta informa\u00e7\u00e3o de modo a possibilitar alguma previs\u00e3o. Todavia, a abordagem estebelecida at\u00e9 ent\u00e3o d\u00e1 algumas dicas de como proceder.\n",
      "\n",
      "Parece razo\u00e1vel, ao menos no contexto pol\u00edtico nacional, tentar relacionar o resultado de vota\u00e7\u00f5es de projetos de lei com os partidos pol\u00edticos associados aos deputados e senadores votantes. Para isso, ser\u00e1 necess\u00e1rio estabelecer os conceitos de *parlamentar* e de *parido pol\u00edtico*. \n",
      "O primeiro pode ser feito de forma natural ao se associar um *agente* a cada parlamentar, de modo que o voto de cada um destes depender\u00e1 de um aprendizado consequente da intera\u00e7\u00e3o com sues colegas. A ideia de partido requer um pouco mais de cuidado.\n",
      "\n",
      "A caracter\u00edstica distintora de partidos pol\u00edticos \u00e9, ao menos numa \"aproxima\u00e7\u00e3o de primeira ordem\", a ideologia defendida pelo partido. Para capturar tal caracter\u00edstica, \u00e9 poss\u00edvel estabelecer a ideia de *agenda partid\u00e1ria*, grandeza que representar\u00e1 um sum\u00e1rio dos temas e abordagens considerados importantes para um certo parido. Agora, naturalmente (ou n\u00e3o?), os parlamentares de um certo partido devem concordar com uma fra\u00e7\u00e3o consider\u00e1vel da agenda do partido que integram. Embora a no\u00e7\u00e3o de agenda estabele\u00e7a um v\u00ednculo entre um parlamentar e seu partido, mais informa\u00e7\u00e3o \u00e9 necess\u00e1ria para uma boa caracteriza\u00e7\u00e3o de um partido atrav\u00e9s de sua agenda.\n",
      "\n",
      "O elemento necess\u00e1rio restante diz respeito \u00e0s liga\u00e7\u00f5es ou v\u00ednculos entre parlamentares. \u00c9 coerente estabelecer que uma liga\u00e7\u00e3o entre dois parlamentares existe quando existe a possibilidade de algum deles concordar, ao menos em parte, com a opini\u00e3o do outro, ou seja, quando o debate entre eles \u00e9 poss\u00edvel. Caso contr\u00e1rio, quando os dois agentes est\u00e3o plenamente convictos, tal liga\u00e7\u00e3o n\u00e3o existe. Intuitivamente, a aus\u00eancia de liga\u00e7\u00f5es externas deve ser mais frequente do que a aus\u00eancia de liga\u00e7\u00f5es internas de um partido\n",
      "\n",
      "Como resultado da conceitualiza\u00e7\u00e3o feita aqui, podemos dizer que um partido pol\u00edtico \u00e9 um grupo de parlamentares mais dedicados a uma dada agenta e mais fortemente intraconexo do extraconexo."
     ]
    },
    {
     "cell_type": "markdown",
     "metadata": {},
     "source": [
      "### O Modelo Matem\u00e1tico"
     ]
    },
    {
     "cell_type": "markdown",
     "metadata": {},
     "source": [
      "Considere um parlamento formado por $N$ parlamentares, cada um representado por um vetor em $\\vec{w}_i \\in \\mathbb{R}^D$, sugeitos \u00e0 di\u00e2mica de aprendizado\n",
      "\n",
      "$$ \\vec{u}_i(t+1) = \\vec{w}_i(t) + \\eta\\; \\sigma^k_j  \\;F(\\vec{w}_i,\\vec{w}_j| \\vec{Z}_k) \\;\\vec{Z}_{k}$$\n",
      "\n",
      "$$ \\vec{w}_i(t+1) = \\frac{\\vec{u}_i(t+1)}{||\\vec{u}_i(t+1)||}$$\n",
      "\n",
      "onde $\\eta$ \u00e9 uma constante real, $\\sigma^k_j = \\mathrm{sgn}(h^k_j)$, com $h^k_j = D^{-\\frac{1}{2}}\\vec{w}_j \\cdot \\vec{Z}_k$, e $F$ a fun\u00e7\u00e3o de modula\u00e7\u00e3o do aprendizado. O vetor $\\vec{Z}_k \\in \\mathbb{R}^D$ representa a agenda do partido do parlamentar $k$. Considere $||\\vec{w}_i||^2 = ||\\vec{Z}_i||^2 = D$ para todo $i$.\n",
      "\n",
      "A liga\u00e7\u00e3o pol\u00edtica entre os parlamentares $i$ e $j$ \u00e9 representada pelo elemento $l_{ij}$ da matriz de liga\u00e7\u00f5es $L \\in \\mathbb{R}^{N \\times N}$.\n",
      "\n",
      "A fun\u00e7\u00e3o de modula\u00e7\u00e3o na din\u00e2mica de aprendizado, a saber, pode ser vista como o gradiente de um potencial, usualmente interpretado como o custo da intera\u00e7\u00e3o, no presente caso pol\u00edtica, entre dois agentes. Como \u00e9 sabido da teoria do aprendizado de m\u00e1quinas __CITAR TUDO__, a aproximaxima\u00e7\u00e3o Hebbiana para o algor\u00edtimo Bayesiano d\u00e1 origem a uma fun\u00e7\u00e3o de modula\u00e7\u00e3o \u00f3tima. O potencial associado a tal fun\u00e7\u00e3o \u00f3tima \u00e9 \n",
      "\n",
      "$$ E(h_i, \\sigma^k_j| \\rho_i) = -\\Gamma^2_i \\;\\mathrm{ln}\\left(\\epsilon + (1-2\\epsilon) H\\left(\\frac{h_i\\sigma^k_j}{\\Gamma_i}\\right)\\right)$$\n",
      "\n",
      "onde $\\rho_i$ \u00e9 um \u00edndice que mede a diferen\u00e7a entre a import\u00e2ncia que o agente $i$ d\u00e0 informa\u00e7\u00f5es corroborativas e informa\u00e7\u00f5es surpreendentes. Segundo estudos recentes __CITAR TUDO__, o \u00edndice $\\rho_i$ pode ser uma medida da tend\u00eancia liberal\\conservadora (no sentido norte-americano dos termos) do agente $i$. Este potencial ser\u00e1 interpretado como o custo dos atritos pol\u00edticos em plen\u00e1rio e ser\u00e1 a motiva\u00e7\u00e3o dos parlamentares para concordar com seus colegas.\n",
      "\n",
      "\u00c9 poss\u00edvel fazer uso dos m\u00e9todos usuais de mec\u00e2nica estat\u00edstica para analisar esse sistema em diversas condi\u00e7\u00f5es. Para isso, \u00e9 conveniente impor um v\u00ednculo sobre o valor esperado de fun\u00e7\u00e3o $E$ em rela\u00e7\u00e3o \u00e1 distribui\u00e7\u00e3o de estados do sistema, a qual \u00e9 obtida via maximiza\u00e7\u00e3o da entropica com o dito v\u00ednculo. Isso resulta em um par\u00e2metro $\\beta_j$, dado pelo multiplicado de *Lagrange* associado ao v\u00ednculo, que est\u00e1 relacionado com a amplitude das flutua\u00e7\u00f5es em $E$ e ao qual \u00e9 dado o significado de *press\u00e3o pol\u00edtica*. Tal significado pode ser compreendido ao olhar para a distribui\u00e7\u00e3o das configura\u00e7\u00f5es\n",
      "\n",
      "$$ P[\\vec{w}_i] \\propto \\mathrm{exp}\\left(-\\sum_{(ij) \\in L}\\sum_{k}\\beta_j\\;l_{ij} E(\\vec{w}_i, \\vec{w}_j| \\vec{Z}_k) \\right)$$\n",
      "\n",
      "Note que o \u00edndice $j$ em $\\beta$ implica na imposi\u00e7\u00e3o de diversos v\u00ednculos sobre o valor esperado de $E$, cada um associado, neste caso, ao partido do parlamentar $j$. Isso significa que o custo pol\u00edtico pago pelo parlamentar $i$ ao discordar do parlamentar $j$ depende tamb\u00e9m do partido deste. Essa distin\u00e7\u00e3o estabelece uma rela\u00e7\u00e3o de poder ou influ\u00eancia entre partidos.\n",
      "\n",
      "Todo esse aparato permite a simula\u00e7\u00e3o de diversos casos de competi\u00e7\u00e3o entre partidos. A seguir ser\u00e3o estudados alguns casos possivelmente interessantes."
     ]
    },
    {
     "cell_type": "markdown",
     "metadata": {},
     "source": [
      "### Disputa entre dois partidos ideol\u00f3gicos mediada por um partido sem ideologia"
     ]
    },
    {
     "cell_type": "markdown",
     "metadata": {},
     "source": [
      "Imagine o seguinte cen\u00e1rio (completamente hipot\u00e9tico): Dois partidos com ideologias fortes tem maior chance de eleger um presidente, e um deles tem o atual presidente. Um terceiro partido tem a maioria dos parlamentares mas n\u00e3o tem uma ideologia forte. Como se comportam os resultados de vota\u00e7\u00f5es no parlamento quando a presid\u00eancia passa de um partido a outro?\n",
      "\n",
      "Para especificar o modelo, considere duas agendas representando as ideologias dos partidos rivais, $\\vec{Z}_1$ e $\\vec{Z}_2$ e suponha que as press\u00f5es pol\u00edticas associadas a cada um dos tr\u00eas partidos s\u00e3o $\\beta_1$, $\\beta_2$ e $\\beta_3$. Considere que, antes da elei\u00e7\u00e3o, o partido $1$ tem o presidente, de modo que $\\beta_1 > \\beta_2 \\ge \\beta_3$"
     ]
    },
    {
     "cell_type": "markdown",
     "metadata": {},
     "source": [
      "# Campo M\u00e9dio\n",
      "\n",
      "$F_{mf}(z)= 1 - \\rho\\Theta(z) -\\Theta(\\tau-z)$\n",
      "\n",
      "$V_{mf}(z)= -z + \\rho z\\Theta(z) - (\\tau-z)\\Theta(\\tau-z) = -z + \\frac{\\rho}{2}(z + |z|) - \\frac{1}{2}(\\tau - z + |\\tau - z|)$\n",
      "\n",
      "$\\tau \\approx -\\Gamma + \\frac{\\Gamma}{2}\\mathrm{ln}(2\\epsilon)$"
     ]
    }
   ],
   "metadata": {}
  }
 ]
}